{
 "cells": [
  {
   "cell_type": "code",
   "execution_count": 57,
   "metadata": {},
   "outputs": [
    {
     "name": "stdout",
     "output_type": "stream",
     "text": [
      "Technology (\"science of craft\", from Greek τέχνη, techne, \"art, skill, cunning of hand\"; and -λογία, -logia[2]) is the sum of techniques, skills, methods, and processes used in the production of goods or services or in the accomplishment of objectives, such as scientific investigation. Technology can be the knowledge of techniques, processes, and the like, or it can be embedded in machines to allow for operation without detailed knowledge of their workings. Systems (e.g. machines) applying technology by taking an input, changing it according to the system's use, and then producing an outcome are referred to as technology systems or technological systems.\n"
     ]
    }
   ],
   "source": [
    "para = input()"
   ]
  },
  {
   "cell_type": "code",
   "execution_count": 58,
   "metadata": {},
   "outputs": [],
   "source": [
    "# make all smaller case\n",
    "# remove special characters\n",
    "# remove plural, extensions of words\n",
    "# remove stop words\n",
    "# tokenize"
   ]
  },
  {
   "cell_type": "code",
   "execution_count": 69,
   "metadata": {},
   "outputs": [],
   "source": [
    "para = para.lower()"
   ]
  },
  {
   "cell_type": "code",
   "execution_count": 70,
   "metadata": {},
   "outputs": [],
   "source": [
    "import re"
   ]
  },
  {
   "cell_type": "code",
   "execution_count": 71,
   "metadata": {},
   "outputs": [],
   "source": [
    "words = re.findall(\"[a-z0-9]+\",para)"
   ]
  },
  {
   "cell_type": "code",
   "execution_count": 72,
   "metadata": {},
   "outputs": [],
   "source": [
    "stopwords = ['the', 'a', 'an', 'of', 'is', 'as', 'to', 'in', 'be', 'it']"
   ]
  },
  {
   "cell_type": "code",
   "execution_count": 73,
   "metadata": {},
   "outputs": [],
   "source": [
    "words = [word for word in words if word not in stopwords]"
   ]
  },
  {
   "cell_type": "code",
   "execution_count": 74,
   "metadata": {},
   "outputs": [],
   "source": [
    "extensions = '(ing|ings|s|es|ed)$'"
   ]
  },
  {
   "cell_type": "code",
   "execution_count": 82,
   "metadata": {},
   "outputs": [],
   "source": [
    "words = [re.sub(extensions, \"\", word) for word in words]"
   ]
  },
  {
   "cell_type": "code",
   "execution_count": 83,
   "metadata": {},
   "outputs": [],
   "source": [
    "# words = [word for word in words if len(word)>1]\n",
    "# should we remove single lettered indices"
   ]
  },
  {
   "cell_type": "code",
   "execution_count": 86,
   "metadata": {},
   "outputs": [],
   "source": [
    "# remove empty words\n",
    "words = [w for w in words if len(w)>0]"
   ]
  },
  {
   "cell_type": "code",
   "execution_count": 87,
   "metadata": {},
   "outputs": [
    {
     "data": {
      "text/plain": [
       "{'2',\n",
       " 'accomplishment',\n",
       " 'accord',\n",
       " 'allow',\n",
       " 'and',\n",
       " 'apply',\n",
       " 'are',\n",
       " 'art',\n",
       " 'by',\n",
       " 'can',\n",
       " 'chang',\n",
       " 'craft',\n",
       " 'cunn',\n",
       " 'detail',\n",
       " 'e',\n",
       " 'embedd',\n",
       " 'for',\n",
       " 'from',\n",
       " 'g',\n",
       " 'good',\n",
       " 'greek',\n",
       " 'hand',\n",
       " 'input',\n",
       " 'investigation',\n",
       " 'knowledge',\n",
       " 'like',\n",
       " 'logia',\n",
       " 'machin',\n",
       " 'method',\n",
       " 'objectiv',\n",
       " 'operation',\n",
       " 'or',\n",
       " 'outcome',\n",
       " 'proces',\n",
       " 'produc',\n",
       " 'production',\n",
       " 'referr',\n",
       " 'science',\n",
       " 'scientific',\n",
       " 'servic',\n",
       " 'skill',\n",
       " 'such',\n",
       " 'sum',\n",
       " 'system',\n",
       " 'tak',\n",
       " 'techne',\n",
       " 'techniqu',\n",
       " 'technological',\n",
       " 'technology',\n",
       " 'their',\n",
       " 'then',\n",
       " 'u',\n",
       " 'use',\n",
       " 'without',\n",
       " 'work'}"
      ]
     },
     "execution_count": 87,
     "metadata": {},
     "output_type": "execute_result"
    }
   ],
   "source": [
    "swords=set(words)\n",
    "swords"
   ]
  },
  {
   "cell_type": "code",
   "execution_count": null,
   "metadata": {},
   "outputs": [],
   "source": []
  }
 ],
 "metadata": {
  "kernelspec": {
   "display_name": "Python 3",
   "language": "python",
   "name": "python3"
  },
  "language_info": {
   "codemirror_mode": {
    "name": "ipython",
    "version": 3
   },
   "file_extension": ".py",
   "mimetype": "text/x-python",
   "name": "python",
   "nbconvert_exporter": "python",
   "pygments_lexer": "ipython3",
   "version": "3.6.8"
  }
 },
 "nbformat": 4,
 "nbformat_minor": 2
}
